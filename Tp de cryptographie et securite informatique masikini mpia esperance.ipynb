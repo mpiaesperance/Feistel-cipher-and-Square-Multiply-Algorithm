{
 "cells": [
  {
   "cell_type": "markdown",
   "id": "40c308d8",
   "metadata": {},
   "source": [
    " Algorithme pour la génération des clés de Feistel\n",
    " ---nous avons implémenter en Python---"
   ]
  },
  {
   "cell_type": "code",
   "execution_count": 10,
   "id": "c88ef3ac",
   "metadata": {},
   "outputs": [
    {
     "name": "stdout",
     "output_type": "stream",
     "text": [
      "Sous-clé 1 : [1, 0, 1, 0]\n",
      "Sous-clé 2 : [0, 0, 0, 0]\n"
     ]
    }
   ],
   "source": [
    " def generate_subkeys(key):\n",
    "    # Appliquer la fonction de permutation H\n",
    "    permutation_table = [6, 5, 2, 7, 4, 1, 3, 0]\n",
    "    permuted_key = [key[i] for i in permutation_table]\n",
    "\n",
    "    # Diviser la clé en deux blocs de 4 bits\n",
    "    k1 = permuted_key[:4]\n",
    "    k2 = permuted_key[4:]\n",
    "\n",
    "    # Calculer k1 et k2\n",
    "    k1 = [k1[i] ^ k2[i] for i in range(4)]\n",
    "    k2 = [k2[i] & k1[i] for i in range(4)]\n",
    "\n",
    "    # Appliquer les décalages\n",
    "    k1 = k1[2:] + k1[:2]\n",
    "    k2 = k2[-1:] + k2[:-1]\n",
    "\n",
    "    return k1, k2\n",
    "\n",
    "# Exemple d'utilisation\n",
    "key = [0, 1, 1, 0, 0, 1, 1, 0]  # Clé de départ (8 bits)\n",
    "\n",
    "subkey1, subkey2 = generate_subkeys(key)\n",
    "print(\"Sous-clé 1 :\", subkey1)\n",
    "print(\"Sous-clé 2 :\", subkey2)"
   ]
  },
  {
   "cell_type": "markdown",
   "id": "1e23920b",
   "metadata": {},
   "source": [
    "l'Algorithme de chiffrement de Feistel"
   ]
  },
  {
   "cell_type": "code",
   "execution_count": 11,
   "id": "89a5941d",
   "metadata": {},
   "outputs": [
    {
     "name": "stdout",
     "output_type": "stream",
     "text": [
      "Texte chiffré : [1, 1, 1, 1, 0, 1, 0, 1]\n"
     ]
    }
   ],
   "source": [
    "def feistel_cipher(plaintext, key):\n",
    "    # Appliquer la permutation π\n",
    "    permutation_table = [4, 6, 0, 2, 7, 3, 1, 5]\n",
    "    permuted_text = [plaintext[i] for i in permutation_table]\n",
    "\n",
    "    # Diviser le bloc en deux parties\n",
    "    G = permuted_text[:4]\n",
    "    D = permuted_text[4:]\n",
    "\n",
    "    # Récupérer les sous-clés\n",
    "    k1, k2 = key\n",
    "\n",
    "    # Premier Round\n",
    "    D1 = [G[i] ^ k1[i] for i in range(4)]\n",
    "    G1 = [D[i] ^ (G[i] | k1[i]) for i in range(4)]\n",
    "\n",
    "    # Deuxième Round\n",
    "    D2 = [G1[i] ^ k2[i] for i in range(4)]\n",
    "    G2 = [D1[i] ^ (G1[i] | k2[i]) for i in range(4)]\n",
    "\n",
    "    # Concaténer G2 et D2\n",
    "    ciphertext = G2 + D2\n",
    "\n",
    "    # Appliquer l'inverse de la permutation π\n",
    "    inverse_permutation_table = [2, 6, 0, 7, 3, 1, 5, 4]\n",
    "    permuted_ciphertext = [ciphertext[i] for i in inverse_permutation_table]\n",
    "\n",
    "    return permuted_ciphertext\n",
    "\n",
    "# Exemple d'utilisation\n",
    "plaintext = [0, 1, 1, 0, 0, 1, 1, 0]  # Bloc de départ (8 bits)\n",
    "key = [[0, 1, 0, 0], [1, 1, 0, 1]]  # Sous-clés (4 bits chacune)\n",
    "\n",
    "ciphertext = feistel_cipher(plaintext, key)\n",
    "print(\"Texte chiffré :\", ciphertext)"
   ]
  },
  {
   "cell_type": "markdown",
   "id": "dbbb1d5c",
   "metadata": {},
   "source": [
    "l'Algorithme de déchiffrement de Feistel"
   ]
  },
  {
   "cell_type": "code",
   "execution_count": 12,
   "id": "16357926",
   "metadata": {},
   "outputs": [
    {
     "name": "stdout",
     "output_type": "stream",
     "text": [
      "Texte clair : [1, 1, 0, 0, 1, 0, 1, 0]\n"
     ]
    }
   ],
   "source": [
    "def feistel_decipher(ciphertext, key):\n",
    "    # Appliquer la permutation π\n",
    "    permutation_table = [4, 6, 0, 2, 7, 3, 1, 5]\n",
    "    permuted_text = [ciphertext[i] for i in permutation_table]\n",
    "\n",
    "    # Diviser le bloc en deux parties\n",
    "    G2 = permuted_text[:4]\n",
    "    D2 = permuted_text[4:]\n",
    "\n",
    "    # Récupérer les sous-clés\n",
    "    k1, k2 = key\n",
    "\n",
    "    # Premier Round\n",
    "    G1 = [D2[i] ^ k2[i] for i in range(4)]\n",
    "    D1 = [G2[i] ^ (G1[i] | k2[i]) for i in range(4)]\n",
    "\n",
    "    # Deuxième Round\n",
    "    G0 = [D1[i] ^ k1[i] for i in range(4)]\n",
    "    D0 = [G1[i] ^ (G0[i] | k1[i]) for i in range(4)]\n",
    "\n",
    "    # Concaténer G0 et D0\n",
    "    plaintext = G0 + D0\n",
    "\n",
    "    # Appliquer l'inverse de la permutation π\n",
    "    inverse_permutation_table = [2, 6, 0, 7, 3, 1, 5, 4]\n",
    "    permuted_plaintext = [plaintext[i] for i in inverse_permutation_table]\n",
    "\n",
    "    return permuted_plaintext\n",
    "\n",
    "# Exemple d'utilisation\n",
    "ciphertext = [1, 0, 0, 1, 1, 0, 0, 1]  # Bloc chiffré (8 bits)\n",
    "key = [[0, 1, 0, 0], [1, 1, 0, 1]]  # Sous-clés (4 bits chacune)\n",
    "\n",
    "plaintext = feistel_decipher(ciphertext, key)\n",
    "print(\"Texte clair :\", plaintext)"
   ]
  },
  {
   "cell_type": "markdown",
   "id": "cc3e67a3",
   "metadata": {},
   "source": [
    "Algorithme des carrés et des multiplications (Square & Multiply Algorithm)"
   ]
  },
  {
   "cell_type": "code",
   "execution_count": 14,
   "id": "6662d5dc",
   "metadata": {},
   "outputs": [
    {
     "name": "stdout",
     "output_type": "stream",
     "text": [
      "Entrez la valeur de x : 2\n",
      "Entrez la valeur de b : 9\n",
      "Entrez la valeur de n : 6\n",
      "Résultat : 2\n"
     ]
    }
   ],
   "source": [
    "def square_and_multiply(x, b, n):\n",
    "    # Convertir l'exposant b en une représentation binaire\n",
    "    binary_b = bin(b)[2:]\n",
    "\n",
    "    # Initialiser le résultat à 1\n",
    "    result = 1\n",
    "\n",
    "    # Parcourir les bits de l'exposant b de gauche à droite\n",
    "    for bit in binary_b:\n",
    "        result = (result * result) % n  # Carré modulo n\n",
    "\n",
    "        if bit == '1':\n",
    "            result = (result * x) % n  # Multiplication modulo n\n",
    "\n",
    "    return result\n",
    "\n",
    "# Laisser l'utilisateur entrer les valeurs de x, b et n\n",
    "x = int(input(\"Entrez la valeur de x : \"))\n",
    "b = int(input(\"Entrez la valeur de b : \"))\n",
    "n = int(input(\"Entrez la valeur de n : \"))\n",
    "\n",
    "# Appeler la fonction square_and_multiply avec les valeurs fournies\n",
    "resultat = square_and_multiply(x, b, n)\n",
    "print(\"Résultat :\", resultat)"
   ]
  },
  {
   "cell_type": "code",
   "execution_count": null,
   "id": "2928a191",
   "metadata": {},
   "outputs": [],
   "source": []
  }
 ],
 "metadata": {
  "kernelspec": {
   "display_name": "Python 3 (ipykernel)",
   "language": "python",
   "name": "python3"
  },
  "language_info": {
   "codemirror_mode": {
    "name": "ipython",
    "version": 3
   },
   "file_extension": ".py",
   "mimetype": "text/x-python",
   "name": "python",
   "nbconvert_exporter": "python",
   "pygments_lexer": "ipython3",
   "version": "3.11.5"
  }
 },
 "nbformat": 4,
 "nbformat_minor": 5
}
